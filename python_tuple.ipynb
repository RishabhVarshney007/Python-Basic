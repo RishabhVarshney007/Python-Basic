{
  "nbformat": 4,
  "nbformat_minor": 0,
  "metadata": {
    "kernelspec": {
      "display_name": "Python 3",
      "language": "python",
      "name": "python3"
    },
    "language_info": {
      "codemirror_mode": {
        "name": "ipython",
        "version": 3
      },
      "file_extension": ".py",
      "mimetype": "text/x-python",
      "name": "python",
      "nbconvert_exporter": "python",
      "pygments_lexer": "ipython3",
      "version": "3.6.1"
    },
    "colab": {
      "name": "2.2#2.3.ipynb",
      "provenance": []
    }
  },
  "cells": [
    {
      "cell_type": "markdown",
      "metadata": {
        "id": "NBftkpsW5y-U"
      },
      "source": [
        "# Tuples"
      ]
    },
    {
      "cell_type": "markdown",
      "metadata": {
        "id": "2e_GLEYT5y-X"
      },
      "source": [
        "-> A tuple is similar to list\n",
        "\n",
        "-> The diffence between the two is that we can't change the elements of tuple once it is assigned whereas in the list, elements can be changed"
      ]
    },
    {
      "cell_type": "markdown",
      "metadata": {
        "id": "Y76WuYmW5y-Z"
      },
      "source": [
        "# Tuple creation"
      ]
    },
    {
      "cell_type": "code",
      "metadata": {
        "id": "a2T4kcDM5y-a",
        "outputId": "7e510b7e-25f7-4b26-c351-bd82ebf0c566"
      },
      "source": [
        "#empty tuple\n",
        "t = ()\n",
        "\n",
        "#tuple having integers\n",
        "t = (1, 2, 3)\n",
        "print(t)\n",
        "\n",
        "#tuple with mixed datatypes\n",
        "t = (1, 'raju', 28, 'abc')\n",
        "print(t)\n",
        "\n",
        "#nested tuple\n",
        "t = (1, (2, 3, 4), [1, 'raju', 28, 'abc'])\n",
        "print(t)"
      ],
      "execution_count": null,
      "outputs": [
        {
          "name": "stdout",
          "output_type": "stream",
          "text": [
            "(1, 2, 3)\n",
            "(1, 'raju', 28, 'abc')\n",
            "(1, (2, 3, 4), [1, 'raju', 28, 'abc'])\n"
          ]
        }
      ]
    },
    {
      "cell_type": "code",
      "metadata": {
        "id": "uEDtt6HK5y-d",
        "outputId": "ee0465fc-7cb2-4925-bec6-427afa431d5d"
      },
      "source": [
        "#only parenthesis is not enough\n",
        "t = ('satish')\n",
        "type(t)"
      ],
      "execution_count": null,
      "outputs": [
        {
          "data": {
            "text/plain": [
              "str"
            ]
          },
          "execution_count": 3,
          "metadata": {},
          "output_type": "execute_result"
        }
      ]
    },
    {
      "cell_type": "code",
      "metadata": {
        "id": "AtE8K1KS5y-f",
        "outputId": "01d7b43f-6c26-4b24-d41c-4255b085a4cd"
      },
      "source": [
        "#need a comma at the end\n",
        "t = ('satish',)\n",
        "type(t)"
      ],
      "execution_count": null,
      "outputs": [
        {
          "data": {
            "text/plain": [
              "tuple"
            ]
          },
          "execution_count": 4,
          "metadata": {},
          "output_type": "execute_result"
        }
      ]
    },
    {
      "cell_type": "code",
      "metadata": {
        "id": "XoqHraPS5y-g",
        "outputId": "93146e2a-c5f5-48ce-f0a4-b4b104e3b8d6"
      },
      "source": [
        "#parenthesis is optional\n",
        "t = \"satish\", \n",
        "print(type(t))\n",
        "\n",
        "print(t)"
      ],
      "execution_count": null,
      "outputs": [
        {
          "name": "stdout",
          "output_type": "stream",
          "text": [
            "<class 'tuple'>\n",
            "('satish',)\n"
          ]
        }
      ]
    },
    {
      "cell_type": "markdown",
      "metadata": {
        "id": "YUHh4ID15y-h"
      },
      "source": [
        "# Accessing Elements in Tuple"
      ]
    },
    {
      "cell_type": "code",
      "metadata": {
        "id": "u-ACW6jM5y-h",
        "outputId": "041a1862-c239-4873-d9c3-633479b87df9"
      },
      "source": [
        "t = ('satish', 'murali', 'naveen', 'srinu', 'brahma')\n",
        "\n",
        "print(t[1])"
      ],
      "execution_count": null,
      "outputs": [
        {
          "name": "stdout",
          "output_type": "stream",
          "text": [
            "murali\n"
          ]
        }
      ]
    },
    {
      "cell_type": "code",
      "metadata": {
        "id": "OIlCJqNo5y-i",
        "outputId": "e91cfef2-020b-471f-b7d6-0b734d25da27"
      },
      "source": [
        "#negative index\n",
        "print(t[-1]) #print last element in a tuple"
      ],
      "execution_count": null,
      "outputs": [
        {
          "name": "stdout",
          "output_type": "stream",
          "text": [
            "brahma\n"
          ]
        }
      ]
    },
    {
      "cell_type": "code",
      "metadata": {
        "id": "D5rbJn2p5y-k",
        "outputId": "18ef1e38-07b0-4884-8b67-9dec32945329"
      },
      "source": [
        "#nested tuple\n",
        "t = ('ABC', ('satish', 'naveen', 'srinu'))\n",
        "\n",
        "print(t[1])"
      ],
      "execution_count": null,
      "outputs": [
        {
          "name": "stdout",
          "output_type": "stream",
          "text": [
            "('satish', 'naveen', 'srinu')\n"
          ]
        }
      ]
    },
    {
      "cell_type": "code",
      "metadata": {
        "id": "yUdwOtU55y-l",
        "outputId": "e147b970-b9df-44bf-eb2c-bf6193ad62af"
      },
      "source": [
        "print(t[1][2])"
      ],
      "execution_count": null,
      "outputs": [
        {
          "name": "stdout",
          "output_type": "stream",
          "text": [
            "srinu\n"
          ]
        }
      ]
    },
    {
      "cell_type": "code",
      "metadata": {
        "id": "Y5JChCNh5y-m",
        "outputId": "96eed323-e187-41a6-ef33-4807a9c46a88"
      },
      "source": [
        "#Slicing\n",
        "t = (1, 2, 3, 4, 5, 6)\n",
        "\n",
        "print(t[1:4])\n",
        "\n",
        "#print elements from starting to 2nd last elements\n",
        "print(t[:-2])\n",
        "\n",
        "#print elements from starting to end\n",
        "print(t[:])"
      ],
      "execution_count": null,
      "outputs": [
        {
          "name": "stdout",
          "output_type": "stream",
          "text": [
            "(2, 3, 4)\n",
            "(1, 2, 3, 4)\n",
            "(1, 2, 3, 4, 5, 6)\n"
          ]
        }
      ]
    },
    {
      "cell_type": "markdown",
      "metadata": {
        "id": "Glu8j-2l5y-n"
      },
      "source": [
        "# Changing a Tuple"
      ]
    },
    {
      "cell_type": "markdown",
      "metadata": {
        "id": "aKLyYnEp5y-o"
      },
      "source": [
        "#unlike lists, tuples are immutable\n",
        "#This means that elements of a tuple cannot be changed once it has been assigned. But, if the element is itself a mutable datatype like list, its nested items can be changed."
      ]
    },
    {
      "cell_type": "code",
      "metadata": {
        "id": "7ZkGtbYt5y-p",
        "outputId": "33f586c9-0ff4-4137-da50-6c658c7d7017"
      },
      "source": [
        "#creating tuple\n",
        "t = (1, 2, 3, 4, [5, 6, 7])\n",
        "\n",
        "t[2] = 'x' #will get TypeError"
      ],
      "execution_count": null,
      "outputs": [
        {
          "ename": "TypeError",
          "evalue": "'tuple' object does not support item assignment",
          "output_type": "error",
          "traceback": [
            "\u001b[0;31m---------------------------------------------------------------------------\u001b[0m",
            "\u001b[0;31mTypeError\u001b[0m                                 Traceback (most recent call last)",
            "\u001b[0;32m<ipython-input-3-9f4cbf6ee0de>\u001b[0m in \u001b[0;36m<module>\u001b[0;34m()\u001b[0m\n\u001b[1;32m      2\u001b[0m \u001b[0mt\u001b[0m \u001b[0;34m=\u001b[0m \u001b[0;34m(\u001b[0m\u001b[0;36m1\u001b[0m\u001b[0;34m,\u001b[0m \u001b[0;36m2\u001b[0m\u001b[0;34m,\u001b[0m \u001b[0;36m3\u001b[0m\u001b[0;34m,\u001b[0m \u001b[0;36m4\u001b[0m\u001b[0;34m,\u001b[0m \u001b[0;34m[\u001b[0m\u001b[0;36m5\u001b[0m\u001b[0;34m,\u001b[0m \u001b[0;36m6\u001b[0m\u001b[0;34m,\u001b[0m \u001b[0;36m7\u001b[0m\u001b[0;34m]\u001b[0m\u001b[0;34m)\u001b[0m\u001b[0;34m\u001b[0m\u001b[0m\n\u001b[1;32m      3\u001b[0m \u001b[0;34m\u001b[0m\u001b[0m\n\u001b[0;32m----> 4\u001b[0;31m \u001b[0mt\u001b[0m\u001b[0;34m[\u001b[0m\u001b[0;36m2\u001b[0m\u001b[0;34m]\u001b[0m \u001b[0;34m=\u001b[0m \u001b[0;34m'x'\u001b[0m \u001b[0;31m#will get TypeError\u001b[0m\u001b[0;34m\u001b[0m\u001b[0m\n\u001b[0m",
            "\u001b[0;31mTypeError\u001b[0m: 'tuple' object does not support item assignment"
          ]
        }
      ]
    },
    {
      "cell_type": "code",
      "metadata": {
        "id": "PaTdwhoK5y-p",
        "outputId": "e56586fa-eed0-4666-c76f-3a779ca025ee"
      },
      "source": [
        "t[4][1] = 'satish'\n",
        "print(t)"
      ],
      "execution_count": null,
      "outputs": [
        {
          "name": "stdout",
          "output_type": "stream",
          "text": [
            "(1, 2, 3, 4, [5, 'satish', 7])\n"
          ]
        }
      ]
    },
    {
      "cell_type": "code",
      "metadata": {
        "id": "FmDrzM2t5y-q",
        "outputId": "0c8f3d62-9667-48be-96e5-f98f007a0eb5"
      },
      "source": [
        "#concatinating tuples\n",
        "\n",
        "t = (1, 2, 3) + (4, 5, 6)\n",
        "print(t)"
      ],
      "execution_count": null,
      "outputs": [
        {
          "name": "stdout",
          "output_type": "stream",
          "text": [
            "(1, 2, 3, 4, 5, 6)\n"
          ]
        }
      ]
    },
    {
      "cell_type": "code",
      "metadata": {
        "id": "fI3a51oC5y-q",
        "outputId": "ab374a5d-ec9a-4b34-c716-8cec2bd78fba"
      },
      "source": [
        "#repeat the elements in a tuple for a given number of times using the * operator.\n",
        "t = (('satish', ) * 4)\n",
        "print(t)"
      ],
      "execution_count": null,
      "outputs": [
        {
          "name": "stdout",
          "output_type": "stream",
          "text": [
            "('satish', 'satish', 'satish', 'satish')\n"
          ]
        }
      ]
    },
    {
      "cell_type": "markdown",
      "metadata": {
        "id": "gQImbMbq5y-r"
      },
      "source": [
        "# Tuple Deletion"
      ]
    },
    {
      "cell_type": "code",
      "metadata": {
        "collapsed": true,
        "id": "hkpWJTgP5y-r"
      },
      "source": [
        "#we cannot change the elements in a tuple. \n",
        "# That also means we cannot delete or remove items from a tuple.\n",
        "\n",
        "#delete entire tuple using del keyword\n",
        "t = (1, 2, 3, 4, 5, 6)\n",
        "\n",
        "#delete entire tuple\n",
        "del t\n",
        "\n"
      ],
      "execution_count": null,
      "outputs": []
    },
    {
      "cell_type": "markdown",
      "metadata": {
        "id": "c5CdCsTw5y-s"
      },
      "source": [
        "# Tuple Count"
      ]
    },
    {
      "cell_type": "code",
      "metadata": {
        "id": "mw_nYpDB5y-s",
        "outputId": "2a9ff356-b797-4a6f-db1f-f4fb52bd4c6b"
      },
      "source": [
        "t = (1, 2, 3, 1, 3, 3, 4, 1)\n",
        "\n",
        "#get the frequency of particular element appears in a tuple\n",
        "t.count(1)"
      ],
      "execution_count": null,
      "outputs": [
        {
          "data": {
            "text/plain": [
              "3"
            ]
          },
          "execution_count": 19,
          "metadata": {},
          "output_type": "execute_result"
        }
      ]
    },
    {
      "cell_type": "markdown",
      "metadata": {
        "id": "wx8JvmSS5y-t"
      },
      "source": [
        "# Tuple Index"
      ]
    },
    {
      "cell_type": "code",
      "metadata": {
        "id": "PqX5gQrM5y-t",
        "outputId": "f342ccb5-1e71-43bd-c581-b418370fd946"
      },
      "source": [
        "t = (1, 2, 3, 1, 3, 3, 4, 1)\n",
        "\n",
        "print(t.index(3)) #return index of the first element is equal to 3\n",
        "\n",
        "#print index of the 1\n",
        "\n"
      ],
      "execution_count": null,
      "outputs": [
        {
          "name": "stdout",
          "output_type": "stream",
          "text": [
            "2\n"
          ]
        }
      ]
    },
    {
      "cell_type": "markdown",
      "metadata": {
        "id": "LMUnt8da5y-t"
      },
      "source": [
        "# Tuple Memebership "
      ]
    },
    {
      "cell_type": "code",
      "metadata": {
        "id": "VqljKRNo5y-u",
        "outputId": "063a23ca-e65c-4a24-fef8-1c35c5058030"
      },
      "source": [
        "#test if an item exists in a tuple or not, using the keyword in.\n",
        "t = (1, 2, 3, 4, 5, 6)\n",
        "\n",
        "print(1 in t)"
      ],
      "execution_count": null,
      "outputs": [
        {
          "name": "stdout",
          "output_type": "stream",
          "text": [
            "True\n"
          ]
        }
      ]
    },
    {
      "cell_type": "code",
      "metadata": {
        "id": "CivjPxc45y-u",
        "outputId": "0f751a4c-85fa-4db4-eae3-ca4013507162"
      },
      "source": [
        "print(7 in t)"
      ],
      "execution_count": null,
      "outputs": [
        {
          "name": "stdout",
          "output_type": "stream",
          "text": [
            "False\n"
          ]
        }
      ]
    },
    {
      "cell_type": "markdown",
      "metadata": {
        "id": "dzaNyKbQ5y-v"
      },
      "source": [
        "# Built in Functions"
      ]
    },
    {
      "cell_type": "markdown",
      "metadata": {
        "id": "NQV2ntBS5y-v"
      },
      "source": [
        "# Tuple Length"
      ]
    },
    {
      "cell_type": "code",
      "metadata": {
        "id": "uQISIIfb5y-v",
        "outputId": "24a36ff4-0378-4641-8f98-54d5f7375ed7"
      },
      "source": [
        "t = (1, 2, 3, 4, 5, 6)\n",
        "print(len(t))"
      ],
      "execution_count": null,
      "outputs": [
        {
          "name": "stdout",
          "output_type": "stream",
          "text": [
            "6\n"
          ]
        }
      ]
    },
    {
      "cell_type": "markdown",
      "metadata": {
        "id": "W5N3B5kd5y-w"
      },
      "source": [
        "# Tuple Sort"
      ]
    },
    {
      "cell_type": "code",
      "metadata": {
        "id": "WChpRq0c5y-w",
        "outputId": "78513f54-fe55-4ae3-b8c7-dd33641676e3"
      },
      "source": [
        "t = (4, 5, 1, 2, 3)\n",
        "\n",
        "new_t = sorted(t)\n",
        "print(new_t) #Take elements in the tuple and return a new sorted list \n",
        "             #(does not sort the tuple itself)."
      ],
      "execution_count": null,
      "outputs": [
        {
          "name": "stdout",
          "output_type": "stream",
          "text": [
            "[1, 2, 3, 4, 5]\n"
          ]
        }
      ]
    },
    {
      "cell_type": "code",
      "metadata": {
        "id": "suWl3Pi85y-x",
        "outputId": "11c396a7-8937-42ff-a486-651312697fab"
      },
      "source": [
        "#get the largest element in a tuple\n",
        "t = (2, 5, 1, 6, 9)\n",
        "\n",
        "print(max(t))"
      ],
      "execution_count": null,
      "outputs": [
        {
          "name": "stdout",
          "output_type": "stream",
          "text": [
            "9\n"
          ]
        }
      ]
    },
    {
      "cell_type": "code",
      "metadata": {
        "id": "zLIeQTVj5y-x",
        "outputId": "3404e96b-0619-4170-d3a2-900f1ffd87fa"
      },
      "source": [
        "#get the smallest element in a tuple\n",
        "print(min(t))"
      ],
      "execution_count": null,
      "outputs": [
        {
          "name": "stdout",
          "output_type": "stream",
          "text": [
            "1\n"
          ]
        }
      ]
    },
    {
      "cell_type": "code",
      "metadata": {
        "id": "j05a3cvT5y-x",
        "outputId": "b5d73a67-8777-4ba3-9f87-06a48a001214"
      },
      "source": [
        "#get sum of elments in the tuple\n",
        "print(sum(t))"
      ],
      "execution_count": null,
      "outputs": [
        {
          "name": "stdout",
          "output_type": "stream",
          "text": [
            "23\n"
          ]
        }
      ]
    }
  ]
}